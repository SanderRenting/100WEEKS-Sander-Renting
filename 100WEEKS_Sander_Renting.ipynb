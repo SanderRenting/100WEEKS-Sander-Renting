{
  "nbformat": 4,
  "nbformat_minor": 0,
  "metadata": {
    "colab": {
      "provenance": []
    },
    "kernelspec": {
      "name": "python3",
      "display_name": "Python 3"
    },
    "language_info": {
      "name": "python"
    }
  },
  "cells": [
    {
      "cell_type": "markdown",
      "source": [
        "# Filtering"
      ],
      "metadata": {
        "id": "Kmmfg1LsCrYx"
      }
    },
    {
      "cell_type": "code",
      "source": [
        "!pip install xlsxwriter io\n",
        "!pip install --upgrade pandas"
      ],
      "metadata": {
        "id": "lZAXW37zRH4H"
      },
      "execution_count": null,
      "outputs": []
    },
    {
      "cell_type": "code",
      "source": [
        "import pandas as pd\n",
        "import numpy as np\n",
        "import matplotlib.pyplot as plt\n",
        "import io\n",
        "from io import BytesIO\n",
        "import xlsxwriter"
      ],
      "metadata": {
        "id": "WhMzhytgRFIP"
      },
      "execution_count": null,
      "outputs": []
    },
    {
      "cell_type": "code",
      "execution_count": null,
      "metadata": {
        "id": "CNX_9iNECpPI"
      },
      "outputs": [],
      "source": [
        "df = pd.read_csv('/content/central-tableau-export-2.0.csv')"
      ]
    },
    {
      "cell_type": "markdown",
      "source": [
        "Removing unnecessary countries"
      ],
      "metadata": {
        "id": "06cYOhE0RNJR"
      }
    },
    {
      "cell_type": "code",
      "source": [
        "countries = ['GHA', 'RWA', 'UGA', 'CIV', 'KEN']\n",
        "df = df[df['Country'].isin(countries)]"
      ],
      "metadata": {
        "id": "cd0EdLf7RJNf"
      },
      "execution_count": null,
      "outputs": []
    },
    {
      "cell_type": "markdown",
      "source": [
        "Removing unnecessary rounds"
      ],
      "metadata": {
        "id": "ohAyC8lNRTZH"
      }
    },
    {
      "cell_type": "code",
      "source": [
        "df = df[~df['Round'].isin(['Onboarding', '6', '6.0']) & df['Round'].notna()]\n",
        "df['Round'] = pd.to_numeric(df['Round'], errors='coerce')\n",
        "df = df[df['Round'] % 1 == 0]\n",
        "df['Round'] = df['Round'].astype(int).astype(str)\n",
        "df = df[df['Round'].isin(['0', '1', '2', '3', '100', '102'])]\n",
        "df['Round'] = df['Round'].astype(float).astype(int).astype(str)\n",
        "df = df.sort_values(by='Round', ascending=True)\n",
        "\n",
        "print(df['Round'].unique())"
      ],
      "metadata": {
        "id": "eWaB7Ep3RVsP"
      },
      "execution_count": null,
      "outputs": []
    },
    {
      "cell_type": "markdown",
      "source": [
        "Removing unnecessary columns"
      ],
      "metadata": {
        "id": "_aKdNR-FRO7-"
      }
    },
    {
      "cell_type": "code",
      "source": [
        "columns = [\n",
        "    \"Groupnr\",\n",
        "    \"Round\",\n",
        "    \"Country\",\n",
        "    \"childmortality\",\n",
        "    \"childmortalitytime\",\n",
        "    *[f\"foodsecurity{i}\" for i in range(1, 10)],\n",
        "    *[f\"foodsecurity{i}freq\" for i in range(1, 10)],\n",
        "    \"fuelcooking\",\n",
        "    \"sourcelighting\",\n",
        "    \"watersource\",\n",
        "    \"timewatersource_1\",\n",
        "    \"timewatersourceunit\",\n",
        "    \"Toiletfacility\",\n",
        "    \"materialroof\",\n",
        "    \"materialfloor\",\n",
        "    \"materialwallsext\",\n",
        "    \"assetsmatrix2_7\",\n",
        "    \"assetsmatrix2_14\",\n",
        "    \"assetsmatrix2_16\",\n",
        "    \"assetsmatrix1_23\",\n",
        "    \"assetsmatrix3_14\",\n",
        "    \"assetsmatrix3_16\",\n",
        "    \"assetsmatrix2_12\",\n",
        "    \"assetsmatrix3_22\",\n",
        "    *[f\"HHMschool_{n}\" for n in range(1, 6)],\n",
        "    *[f\"HHMschoolnow_{n}\" for n in range(1, 6)],\n",
        "    *[f\"HHMschoolcompl_{n}\" for n in range(1, 6)],\n",
        "    \"school\",\n",
        "    \"schoolcompleted\",\n",
        "    \"savinghowmuch_1\",\n",
        "    \"savinghowmuch_2\",\n",
        "    \"savinghowmuch_3\",\n",
        "    \"savingstotal_1\",\n",
        "    \"debt\",\n",
        "    \"debtamount_1\",\n",
        "    \"debtnote\",\n",
        "    *[f\"anxiety{i}\" for i in range(1, 8)],\n",
        "    \"psychwellbeing_1\",\n",
        "    \"psychwellbeing_3\",\n",
        "    \"psychwellbeing_5\",\n",
        "    \"psychwellbeing2_5\",\n",
        "    \"jealousy\",\n",
        "    \"jealousywhat\",\n",
        "    *[f\"livestocknumbers_{i}\" for i in [1,13,3,4,5,6,11,8,9,7,2,10]],\n",
        "    \"assetsmatrix1_4\",\n",
        "    \"assetsmatrix1_5\",\n",
        "    \"assetsmatrix1_22\",\n",
        "    \"assetsmatrix2_7\",\n",
        "    \"assetsmatrix2_14\",\n",
        "    \"assetsmatrix2_15\",\n",
        "    \"assetsmatrix2_16\",\n",
        "    \"assetsmatrix2_8\",\n",
        "    \"assetsmatrix3_17\",\n",
        "    \"assetsmatrix2_17\",\n",
        "    \"assetsmatrix2_18\",\n",
        "    \"assetsmatrix2_19\",\n",
        "    \"assetsmatrix2_11\",\n",
        "    \"assetsmatrix2_12\",\n",
        "    \"assetsmatrix3_14\",\n",
        "    \"assetsmatrix1_23\",\n",
        "    \"assetsmatrix3_15\",\n",
        "    \"assetsmatrix3_16\",\n",
        "    \"assetsmatrix3_22\",\n",
        "    \"assetsmatrix3_23\",\n",
        "    \"occupationmain\",\n",
        "    \"ownsland_scto\",\n",
        "    \"meetings1\",\n",
        "    \"moneywithdraw\",\n",
        "    \"moneyproblems\"\n",
        "]\n",
        "\n",
        "columns_available_in_data = [col for col in columns if col in df.columns]\n",
        "\n",
        "df = df[columns_available_in_data]\n"
      ],
      "metadata": {
        "id": "CIwFMKjZRRPG"
      },
      "execution_count": null,
      "outputs": []
    },
    {
      "cell_type": "markdown",
      "source": [
        "Setting datatypes"
      ],
      "metadata": {
        "id": "K4gPXJZURbHf"
      }
    },
    {
      "cell_type": "code",
      "source": [
        "numerical = [\n",
        "    \"savinghowmuch_1\", \"savinghowmuch_2\", \"savinghowmuch_3\",\n",
        "    \"savingstotal_1\", \"debtamount_1\", \"timewatersource_1\"\n",
        "]\n",
        "\n",
        "\n",
        "ordered_categorical = [\n",
        "    *[f\"foodsecurity{i}freq\" for i in range(1, 10)],\n",
        "    *[f\"anxiety{i}\" for i in range(1, 8)],\n",
        "    \"psychwellbeing_1\", \"psychwellbeing_3\", \"psychwellbeing_5\", \"psychwellbeing2_5\"\n",
        "]\n",
        "\n",
        "\n",
        "categorical = [\n",
        "    \"fuelcooking\", \"sourcelighting\", \"watersource\", \"Toiletfacility\",\n",
        "    \"materialroof\", \"materialfloor\", \"materialwallsext\",\n",
        "    *[f\"HHMschoolcompl_{n}\" for n in range(1, 6)],\n",
        "    \"schoolcompleted\", \"livestocknumbers_1\",\n",
        "    *[f\"livestocknumbers_{i}\" for i in [1, 13, 3, 4, 5, 6, 11, 8, 9, 7, 2, 10]],\n",
        "    \"occupationmain\"\n",
        "]\n",
        "\n",
        "\n",
        "binary = [\n",
        "    \"childmortality\",\n",
        "    *[f\"foodsecurity{i}\" for i in range(1, 10)],\n",
        "    *[f\"HHMschool_{n}\" for n in range(1, 6)],\n",
        "    *[f\"HHMschoolnow_{n}\" for n in range(1, 6)],\n",
        "    \"school\", \"debt\", \"jealousy\",\n",
        "    \"assetsmatrix1_4\", \"assetsmatrix1_5\", \"assetsmatrix1_22\",\n",
        "    \"assetsmatrix2_15\", \"assetsmatrix2_8\", \"assetsmatrix3_17\",\n",
        "    \"assetsmatrix2_17\", \"assetsmatrix2_18\", \"assetsmatrix2_19\",\n",
        "    \"assetsmatrix2_11\", \"assetsmatrix3_15\", \"assetsmatrix3_23\",\n",
        "    \"meetings1\", \"moneywithdraw\", \"moneyproblems\"\n",
        "]\n",
        "\n",
        "\n",
        "multiple_choice = [\n",
        "    \"debtnote\", \"jealousywhat\"\n",
        "]\n",
        "\n",
        "\n",
        "information = [\n",
        "    \"Country\", \"Groupnr\", \"Round\"\n",
        "]\n",
        "\n",
        "binary_neg = [\n",
        "    \"debt\", \"foodsecurity1\",\"foodsecurity2\", \"foodsecurity3\", \"foodsecurity4\", \"foodsecurity5\",\n",
        "    \"foodsecurity6\", \"foodsecurity7\", \"foodsecurity8\", \"foodsecurity9\", \"childmortality\",\n",
        "    \"jealousy\", \"assetsmatrix1_4\", \"assetsmatrix1_5\", \"assetsmatrix1_22\", \"assetsmatrix2_15\",\n",
        "    \"assetsmatrix2_8\", \"assetsmatrix3_17\", \"assetsmatrix2_17\",\n",
        "    \"assetsmatrix2_18\", \"assetsmatrix2_19\", \"assetsmatrix2_11\",\n",
        "    \"assetsmatrix3_15\", \"assetsmatrix3_23\"\n",
        "]\n",
        "\n",
        "binary_pos = [\n",
        "    \"HHMschoolnow_1\", \"HHMschoolnow_2\", \"HHMschoolnow_3\",\n",
        "    \"HHMschoolnow_4\", \"HHMschoolnow_5\",\n",
        "    \"school\", \"meetings1\", \"moneywithdraw\", \"moneyproblems\"\n",
        "]"
      ],
      "metadata": {
        "id": "Ej4e64VHRcjf"
      },
      "execution_count": null,
      "outputs": []
    },
    {
      "cell_type": "markdown",
      "source": [
        "Standardization functions of the categorical + binary + multiple choice variables  -- Work from K. Pereira"
      ],
      "metadata": {
        "id": "9wckjV1NRlT-"
      }
    },
    {
      "cell_type": "code",
      "source": [
        "def livestock_normal(val):\n",
        "    if pd.isna(val) or val == 0: return 0\n",
        "    val = int(val)\n",
        "    if val in [1, 2, 3, 4, 5]: return str(val)\n",
        "    elif 6 <= val <= 10: return '6-10'\n",
        "    elif 11 <= val <= 20: return '11-20'\n",
        "    elif val > 20: return '20+'\n",
        "livestock_indices_normal = [1, 13, 3, 4, 8, 9, 7, 2, 10]\n",
        "for i in livestock_indices_normal:\n",
        "    col = f'livestocknumbers_{i}'\n",
        "    if col in df.columns: df[col] = df[col].apply(livestock_normal)\n",
        "\n",
        "def livestock_high(val):\n",
        "    if pd.isna(val) or val == 0: return 0\n",
        "    val = int(val)\n",
        "    if val in [1, 2, 3, 4, 5]: return str(val)\n",
        "    elif 6 <= val <= 10: return '6-10'\n",
        "    elif 11 <= val <= 20: return '11-20'\n",
        "    elif 21 <= val <= 50: return '21-50'\n",
        "    elif val >= 51: return '51+'\n",
        "    else: return 0\n",
        "\n",
        "livestock_indices_high = [5,6,11]\n",
        "for i in livestock_indices_high:\n",
        "    col = f'livestocknumbers_{i}'\n",
        "    if col in df.columns: df[col] = df[col].apply(livestock_high)\n",
        "\n",
        "def mpi_water(row):\n",
        "    if row['timewatersource_1'] > 30: return 1.0\n",
        "    water = row['watersource']\n",
        "    if water in [1, 2, 5, 7, 12]: return 0.0\n",
        "    elif water in [4, 10]: return 0.3\n",
        "    elif water in [3, 6]: return 0.6\n",
        "    elif water in [8, 9, 11]: return 1.0\n",
        "    else: return None\n",
        "if 'timewatersource_1' in df.columns and 'watersource' in df.columns:\n",
        "    df['MPI_water'] = df.apply(mpi_water, axis=1)\n",
        "\n",
        "def MPI_fuel(row):\n",
        "    fuel = row['fuelcooking']\n",
        "    if fuel in [3, 4, 5, 6]: return 0.0\n",
        "    elif fuel in [7]: return 0.3\n",
        "    elif fuel in [2, 10]: return 0.6\n",
        "    elif fuel in [1, 8, 9]: return 1.0\n",
        "    else: return None\n",
        "if 'fuelcooking' in df.columns:\n",
        "    df['MPI_fuel'] = df.apply(MPI_fuel, axis=1)\n",
        "\n",
        "def MPI_electricity(row):\n",
        "    source = row['sourcelighting']\n",
        "    if source in [1, 2, 4, 9, 15]: return 0.0\n",
        "    elif source in [3]: return 0.3\n",
        "    elif source in [5, 7, 8, 10, 13, 14]: return 0.6\n",
        "    elif source in [6, 11, 12]: return 1.0\n",
        "    else: return None\n",
        "if 'sourcelighting' in df.columns:\n",
        "    df['MPI_electricity'] = df.apply(MPI_electricity, axis=1)\n",
        "\n",
        "def MPI_sanitation(row):\n",
        "    toiletfacility = row['Toiletfacility']\n",
        "    if toiletfacility in [1]: return 2\n",
        "    elif toiletfacility in [6]: return 0.2\n",
        "    elif toiletfacility in [5]: return 0.6\n",
        "    elif toiletfacility in [3]: return 1.0\n",
        "    else: return None\n",
        "if 'Toiletfacility' in df.columns:\n",
        "    df['MPI_sanitation'] = df.apply(MPI_sanitation, axis=1)\n",
        "\n",
        "def MPI_floor(row):\n",
        "    material = row['materialfloor']\n",
        "    if material in [5, 6, 4, 9]: return 2\n",
        "    elif material in [3, 8]: return 1\n",
        "    elif material in [1, 2]: return 0\n",
        "    else: return None\n",
        "\n",
        "def MPI_roof(row):\n",
        "    material = row['materialroof']\n",
        "    if material in [4, 2, 3, 8]: return 2\n",
        "    elif material in [5, 7]: return 1\n",
        "    elif material in [1, 9]: return 0\n",
        "    else: return None\n",
        "\n",
        "def MPI_wall(row):\n",
        "    material = row['materialwallsext']\n",
        "    if material in [4, 6, 2, 3, 13]: return 2\n",
        "    elif material in [1, 5, 8, 9, 11]: return 1\n",
        "    elif material in [7, 14]: return 0\n",
        "    else: return None\n",
        "\n",
        "if 'materialwallsext' in df.columns: df['material_walls'] = df.apply(MPI_wall, axis=1)\n",
        "if 'materialfloor' in df.columns: df['material_floor'] = df.apply(MPI_floor, axis=1)\n",
        "if 'materialroof' in df.columns: df['material_roof'] = df.apply(MPI_roof, axis=1)\n",
        "\n",
        "def average_material_score(row):\n",
        "    values = [row.get('material_walls'), row.get('material_floor'), row.get('material_roof')]\n",
        "    valid_values = [v for v in values if v is not None]\n",
        "    return sum(valid_values) / len(valid_values) if valid_values else None\n",
        "df['MPI_house'] = df.apply(average_material_score, axis=1)\n",
        "\n",
        "def update_debtamount(row):\n",
        "    if row['debt'] == 2.0: return 0\n",
        "    elif row['debt'] == 1.0: return row['debtamount_1']\n",
        "    else: return None\n",
        "if 'debt' in df.columns and 'debtamount_1' in df.columns:\n",
        "    df['debtamount_1'] = df.apply(update_debtamount, axis=1)\n",
        "\n",
        "def calculate_school(row, n):\n",
        "    age_col = f'HHMage_1_{n}'\n",
        "    school_col = f'HHMschool_{n}'\n",
        "    schoolcompl_col = f'HHMschoolcompl_{n}'\n",
        "    if pd.isnull(row.get(age_col)) or row.get(age_col) < 10 or pd.isnull(row.get(school_col)): return None\n",
        "    elif row.get(school_col) == 2: return 1\n",
        "    elif pd.isnull(row.get(schoolcompl_col)): return 1\n",
        "    elif row.get(schoolcompl_col) in [1, -88]: return 1\n",
        "    else: return 0\n",
        "for n in range(1, 21):\n",
        "    if f'HHMage_1_{n}' in df.columns and f'HHMschool_{n}' in df.columns and f'HHMschoolcompl_{n}' in df.columns:\n",
        "      df[f'MPI_6yearsofschool_perHHM_{n}'] = df.apply(lambda row: calculate_school(row, n), axis=1)\n",
        "\n",
        "def MPI_6yearsofschool_woman(row):\n",
        "    if pd.isnull(row.get('school')): return None\n",
        "    elif row.get('school') == 2: return 1\n",
        "    elif pd.isnull(row.get('schoolcompleted')): return 1\n",
        "    elif row.get('schoolcompleted') in [1, -88]: return 1\n",
        "    else: return 0\n",
        "if 'school' in df.columns and 'schoolcompleted' in df.columns:\n",
        "    df['MPI_6yearsofschool_woman'] = df.apply(MPI_6yearsofschool_woman, axis=1)\n",
        "\n",
        "def MPI_6yearsofschool_allHHM(row):\n",
        "    education_columns = [col for col in [f'MPI_6yearsofschool_perHHM_{i}' for i in range(1, 21)] + ['MPI_6yearsofschool_woman'] if col in row.index]\n",
        "    if not education_columns or all(pd.isnull(row[col]) for col in education_columns): return None\n",
        "    elif any(row[col] == 0 for col in education_columns): return 0\n",
        "    else: return 1\n",
        "df['MPI_6yearsofschool_allHHM'] = df.apply(MPI_6yearsofschool_allHHM, axis=1)\n",
        "\n",
        "if 'occupationmain' in df.columns:\n",
        "    occupation_scores = {0: 0, 6: 0, 4: 0, 31: 0, 16: 0, 18: 1, 54: 1, 20: 1, 8: 1, 36: 1, 56: 1, 39: 1, 48: 1, 7: 1, 5: 1, 47: 1, 17: 1, 50: 1, 40: 1, 15: 2, 37: 2, 55: 2, 57: 2, 58: 2, 52: 2, 49: 2}\n",
        "    df['occupation_score'] = df['occupationmain'].map(occupation_scores)\n",
        "\n",
        "# =============================================================================\n",
        "# === THIS IS THE CORRECTED FUNCTION ===\n",
        "# =============================================================================\n",
        "def map_school_level_to_score(value):\n",
        "    # Convert value to numeric. If it can't be converted, it becomes NaN.\n",
        "    value = pd.to_numeric(value, errors='coerce')\n",
        "\n",
        "    # The rest of the logic now works safely because `value` is either a number or NaN.\n",
        "    if pd.isnull(value) or value in [-88, 1, 2]:\n",
        "        return 0  # bad\n",
        "    elif value in [3, 4]:\n",
        "        return 1  # medium\n",
        "    elif value >= 5:\n",
        "        return 2  # good\n",
        "    else:\n",
        "        return 0  # fallback for other numbers or cases\n",
        "\n",
        "school_columns = [f\"HHMschoolcompl_{n}\" for n in range(1, 6)] + [\"schoolcompleted\"]\n",
        "for col in school_columns:\n",
        "    if col in df.columns:\n",
        "        df[f\"{col}_score\"] = df[col].apply(map_school_level_to_score)\n",
        "\n",
        "if 'jealousywhat' in df.columns:\n",
        "    def map_jealousy_score(code):\n",
        "        if code in [3, 4, 5, 6, 7]: return 0\n",
        "        elif code in [1, 2, 8]: return 1\n",
        "        elif code == 0: return 2\n",
        "        else: return None\n",
        "    df['jealousywhat_score'] = df['jealousywhat'].apply(map_jealousy_score)"
      ],
      "metadata": {
        "id": "wFU_QCmcR9Au"
      },
      "execution_count": null,
      "outputs": []
    },
    {
      "cell_type": "markdown",
      "source": [
        "Ensuring numerical values"
      ],
      "metadata": {
        "id": "1DFxwD-wSIoQ"
      }
    },
    {
      "cell_type": "code",
      "source": [
        "import pandas as pd\n",
        "\n",
        "def convert_to_numeric_except_id_columns(df):\n",
        "    \"\"\"\n",
        "    Converts all columns in the dataframe to numeric values, coercing errors to NaN,\n",
        "    except for 'Groupnr' and 'Country' which are left unchanged.\n",
        "\n",
        "    Parameters:\n",
        "    df (pd.DataFrame): Input dataframe.\n",
        "\n",
        "    Returns:\n",
        "    pd.DataFrame: DataFrame with specified columns converted to numeric where applicable.\n",
        "    \"\"\"\n",
        "    df_copy = df.copy()\n",
        "    cols_to_convert = [col for col in df_copy.columns if col not in [\"Groupnr\", \"Country\"]]\n",
        "\n",
        "    for col in cols_to_convert:\n",
        "        df_copy[col] = pd.to_numeric(df_copy[col], errors=\"coerce\")\n",
        "\n",
        "    return df_copy\n"
      ],
      "metadata": {
        "id": "sdTeaZ0IS2FX"
      },
      "execution_count": null,
      "outputs": []
    },
    {
      "cell_type": "markdown",
      "source": [
        "Taking mean group values and adding dummy rows for missing rounds"
      ],
      "metadata": {
        "id": "GqqI07YyS2R2"
      }
    },
    {
      "cell_type": "code",
      "source": [
        "import pandas as pd\n",
        "\n",
        "def add_missing_rounds(df):\n",
        "    \"\"\"\n",
        "    Ensures each group in the dataframe has all required round numbers\n",
        "    [0, 1, 2, 3, 100, 102]. For any missing round, a dummy row is inserted.\n",
        "\n",
        "    Parameters:\n",
        "    df (pd.DataFrame): Input dataframe containing at least 'Groupnr' and 'Round' columns.\n",
        "\n",
        "    Returns:\n",
        "    pd.DataFrame: DataFrame with dummy rows added for missing rounds per group.\n",
        "    \"\"\"\n",
        "    required_rounds = [0, 1, 2, 3, 100, 102]\n",
        "    all_rows = []\n",
        "\n",
        "    for group_id, group_df in df.groupby(\"Groupnr\"):\n",
        "        existing_rounds = group_df[\"Round\"].unique().tolist()\n",
        "        missing_rounds = [r for r in required_rounds if r not in existing_rounds]\n",
        "\n",
        "        all_rows.append(group_df)\n",
        "\n",
        "        for missing_round in missing_rounds:\n",
        "            dummy_row = {col: None for col in df.columns}\n",
        "            dummy_row[\"Groupnr\"] = group_id\n",
        "            dummy_row[\"Round\"] = missing_round\n",
        "            all_rows.append(pd.DataFrame([dummy_row]))\n",
        "\n",
        "    return pd.concat(all_rows, ignore_index=True).sort_values(by=[\"Groupnr\", \"Round\"]).reset_index(drop=True)\n"
      ],
      "metadata": {
        "id": "UZtFC_ACS6hu"
      },
      "execution_count": null,
      "outputs": []
    },
    {
      "cell_type": "markdown",
      "source": [
        "# Modelling"
      ],
      "metadata": {
        "id": "xGXvQcmUTNEf"
      }
    },
    {
      "cell_type": "markdown",
      "source": [
        "Seperating into country dataframes"
      ],
      "metadata": {
        "id": "0jSUFVfZUf3M"
      }
    },
    {
      "cell_type": "code",
      "source": [
        "df_gha = df[df['Country'] == 'GHA']\n",
        "df_rwa = df[df['Country'] == 'RWA']\n",
        "df_uga = df[df['Country'] == 'UGA']\n",
        "df_civ = df[df['Country'] == 'CIV']\n",
        "df_ken = df[df['Country'] == 'KEN']"
      ],
      "metadata": {
        "id": "s8JYhiiqUiMe"
      },
      "execution_count": null,
      "outputs": []
    },
    {
      "cell_type": "markdown",
      "source": [
        "Creating benchmark rows"
      ],
      "metadata": {
        "id": "ivx2RiaITZdY"
      }
    },
    {
      "cell_type": "code",
      "source": [
        "import pandas as np\n",
        "import pandas as pd\n",
        "\n",
        "def add_benchmark_rows(df):\n",
        "    \"\"\"\n",
        "    Adds benchmark rows to the dataframe and fills them with mean values per round,\n",
        "    excluding 'Groupnr', 'Country', and 'Round'.\n",
        "    \"\"\"\n",
        "    benchmark_rows = [\n",
        "        \"benchmark_baseline\",\n",
        "        \"benchmark_phone_survey_1\",\n",
        "        \"benchmark_phone_survey_2\",\n",
        "        \"benchmark_phone_survey_3\",\n",
        "        \"benchmark_endline\",\n",
        "        \"benchmark_post-program_survey_2\"\n",
        "    ]\n",
        "    round_mapping = {\n",
        "        \"benchmark_baseline\": 0,\n",
        "        \"benchmark_phone_survey_1\": 1,\n",
        "        \"benchmark_phone_survey_2\": 2,\n",
        "        \"benchmark_phone_survey_3\": 3,\n",
        "        \"benchmark_endline\": 100,\n",
        "        \"benchmark_post-program_survey_2\": 102\n",
        "    }\n",
        "    df_copy = df.copy()\n",
        "    for row_name in benchmark_rows:\n",
        "        df_copy.loc[row_name] = np.nan\n",
        "        df_copy.loc[row_name, \"Round\"] = round_mapping[row_name]\n",
        "        df_copy.loc[row_name, \"Groupnr\"] = \"benchmark\"\n",
        "        df_copy.loc[row_name, \"Country\"] = df[\"Country\"].mode().iloc[0] if \"Country\" in df.columns else \"unknown\"\n",
        "\n",
        "    for row_name in benchmark_rows:\n",
        "        round_number = round_mapping[row_name]\n",
        "        df_round = df[df[\"Round\"] == round_number]\n",
        "        mean_values = df_round.drop(columns=[\"Groupnr\", \"Country\", \"Round\"]).mean(numeric_only=True)\n",
        "        for col, value in mean_values.items():\n",
        "            df_copy.loc[row_name, col] = value\n",
        "\n",
        "    return df_copy.reset_index(drop=True)\n"
      ],
      "metadata": {
        "id": "2Lvbbo2NTSWf"
      },
      "execution_count": null,
      "outputs": []
    },
    {
      "cell_type": "markdown",
      "source": [
        "Raw data plot function with IQR zone and dotted lines for missing values + plots average growth"
      ],
      "metadata": {
        "id": "zZduX4AbVZRf"
      }
    },
    {
      "cell_type": "code",
      "source": [
        "import matplotlib.pyplot as plt\n",
        "\n",
        "def plot_groups_vs_overall(df, groups, variables):\n",
        "    \"\"\"\n",
        "    Plots the trends of selected groups against overall average and IQR bands for given variables.\n",
        "    \"\"\"\n",
        "    round_order = [0, 1, 2, 3, 100, 102]\n",
        "    labels = {\n",
        "        0: 'Baseline',\n",
        "        1: 'Phone survey 1',\n",
        "        2: 'Phone survey 2',\n",
        "        3: 'Phone survey 3',\n",
        "        100: 'Endline',\n",
        "        102: 'Post-program survey'\n",
        "    }\n",
        "    label_list = [labels[r] for r in round_order]\n",
        "\n",
        "    df = df.copy()\n",
        "    df['Round'] = df['Round'].astype(int)\n",
        "\n",
        "    plt.style.use('ggplot')\n",
        "    cmap = plt.colormaps['tab10']\n",
        "\n",
        "    for var in variables:\n",
        "        fig, ax = plt.subplots(figsize=(10, 6), dpi=120)\n",
        "\n",
        "        grouped = df.groupby('Round')[var]\n",
        "        q1 = grouped.quantile(0.25).reindex(round_order)\n",
        "        q3 = grouped.quantile(0.75).reindex(round_order)\n",
        "        iqr_lower = (q1 - 1.5 * (q3 - q1)).values\n",
        "        iqr_upper = (q3 + 1.5 * (q3 - q1)).values\n",
        "        x_labels = [labels[r] for r in round_order]\n",
        "\n",
        "        ax.fill_between(x_labels, iqr_lower, iqr_upper, color='grey', alpha=0.3, label='IQR band (±1.5×)')\n",
        "        ax.plot(x_labels, iqr_lower, color='black', linewidth=1, label='IQR lower')\n",
        "        ax.plot(x_labels, iqr_upper, color='black', linewidth=1, label='IQR upper')\n",
        "\n",
        "        overall = (\n",
        "            df.groupby('Round')[var]\n",
        "              .mean()\n",
        "              .reindex(round_order)\n",
        "              .reset_index()\n",
        "        )\n",
        "        overall['lbl'] = overall['Round'].map(labels)\n",
        "        ax.plot(overall['lbl'], overall[var],\n",
        "                linestyle='--', marker='o', color='tab:red',\n",
        "                linewidth=2, markersize=8, label='Overall average')\n",
        "\n",
        "        for i, grp in enumerate(groups):\n",
        "            sub = df[df['Groupnr'] == grp][['Round', var]].dropna()\n",
        "            if sub.empty:\n",
        "                continue\n",
        "\n",
        "            pts = sorted(zip(sub['Round'], sub[var]), key=lambda x: round_order.index(x[0]))\n",
        "            rounds, vals = zip(*pts)\n",
        "            lbls = [labels[r] for r in rounds]\n",
        "\n",
        "            for j in range(1, len(rounds)):\n",
        "                r0, r1 = rounds[j-1], rounds[j]\n",
        "                x = [labels[r0], labels[r1]]\n",
        "                y = [vals[j-1], vals[j]]\n",
        "                idx0 = round_order.index(r0)\n",
        "                idx1 = round_order.index(r1)\n",
        "                style = '-' if (idx1 - idx0 == 1) else 'dotted'\n",
        "                ax.plot(x, y, linestyle=style, color=cmap(i), linewidth=1.5)\n",
        "\n",
        "            ax.scatter(lbls, vals, marker='s', s=50, color=cmap(i), label=f'Group {grp}')\n",
        "\n",
        "        ax.set_title(f'Original data of {var} for {grp} vs overall', fontsize=16, pad=12)\n",
        "        ax.set_xlabel('Survey Round', fontsize=14, labelpad=8)\n",
        "        ax.set_ylabel(var, fontsize=14, labelpad=8)\n",
        "        ax.set_xticks(label_list)\n",
        "        ax.set_xticklabels(label_list, rotation=45, ha='right')\n",
        "        ax.grid(alpha=0.3)\n",
        "        ax.spines['top'].set_visible(False)\n",
        "        ax.spines['right'].set_visible(False)\n",
        "        ax.legend(loc='upper left', bbox_to_anchor=(1.02, 1))\n",
        "        plt.tight_layout()\n",
        "        plt.show()\n"
      ],
      "metadata": {
        "id": "2VRUrZMZUKnC"
      },
      "execution_count": null,
      "outputs": []
    },
    {
      "cell_type": "markdown",
      "source": [
        "Plots the original data growth and IQR zone + plots average growth"
      ],
      "metadata": {
        "id": "e_XoMfPyVkpN"
      }
    },
    {
      "cell_type": "code",
      "source": [
        "import matplotlib.pyplot as plt\n",
        "\n",
        "def growth_plot(df, groups, variables):\n",
        "    \"\"\"\n",
        "    For each var in `variables`, plots:\n",
        "      - Grey-shaded IQR band (±1.5×IQR) and its boundary lines\n",
        "      - Dotted red line = overall mean growth per round\n",
        "      - Each group's growth trajectory (solid between true neighbors, dotted for gaps)\n",
        "    \"\"\"\n",
        "    round_order = [0, 1, 2, 3, 100, 102]\n",
        "    round_labels = {\n",
        "        0:  'Baseline',\n",
        "        1:  'Phone survey 1',\n",
        "        2:  'Phone survey 2',\n",
        "        3:  'Phone survey 3',\n",
        "        100:'Endline',\n",
        "        102:'Post-program survey'\n",
        "    }\n",
        "    x_pos = list(range(len(round_order)))\n",
        "    x_labels = [round_labels[r] for r in round_order]\n",
        "\n",
        "    df = df.copy()\n",
        "    df['Round'] = df['Round'].astype(int)\n",
        "\n",
        "    plt.style.use('ggplot')\n",
        "    cmap = plt.colormaps['tab10']\n",
        "\n",
        "    for var in variables:\n",
        "        growth_col = var + '_growth'\n",
        "        if growth_col not in df.columns:\n",
        "            print(f\"No growth column for {var}, skipping.\")\n",
        "            continue\n",
        "\n",
        "        stats = (\n",
        "            df.groupby('Round')[growth_col]\n",
        "              .agg(Q1=lambda x: x.quantile(0.25),\n",
        "                   Q3=lambda x: x.quantile(0.75))\n",
        "              .reindex(round_order)\n",
        "        )\n",
        "        stats['IQR']   = stats['Q3'] - stats['Q1']\n",
        "        stats['lower'] = stats['Q1'] - 1.5 * stats['IQR']\n",
        "        stats['upper'] = stats['Q3'] + 1.5 * stats['IQR']\n",
        "\n",
        "        overall = (\n",
        "            df.groupby('Round')[growth_col]\n",
        "              .mean()\n",
        "              .reindex(round_order)\n",
        "        )\n",
        "\n",
        "        fig, ax = plt.subplots(figsize=(10,6), dpi=120)\n",
        "\n",
        "        ax.fill_between(\n",
        "            x_pos,\n",
        "            stats['lower'],\n",
        "            stats['upper'],\n",
        "            color='gray',\n",
        "            alpha=0.3,\n",
        "            label='IQR band (±1.5×)'\n",
        "        )\n",
        "        ax.plot(x_pos, stats['lower'], color='black', lw=1.5, label='IQR lower')\n",
        "        ax.plot(x_pos, stats['upper'], color='black', lw=1.5, label='IQR upper')\n",
        "\n",
        "        ax.plot(\n",
        "            x_pos, overall,\n",
        "            linestyle=':', marker='o', color='red',\n",
        "            lw=2, markersize=8,\n",
        "            label='Avg growth'\n",
        "        )\n",
        "\n",
        "        for i, grp in enumerate(groups):\n",
        "            sub = (\n",
        "                df[df['Groupnr'] == grp]\n",
        "                  [['Round', growth_col]]\n",
        "                  .dropna()\n",
        "                  .query(\"Round in @round_order\")\n",
        "            )\n",
        "            if sub.empty:\n",
        "                continue\n",
        "\n",
        "            sub = sub.set_index('Round').reindex(round_order).dropna().reset_index()\n",
        "            rs = sub['Round'].tolist()\n",
        "            ys = sub[growth_col].tolist()\n",
        "            xs = [round_order.index(r) for r in rs]\n",
        "\n",
        "            for j in range(1, len(xs)):\n",
        "                dx = xs[j] - xs[j-1]\n",
        "                style = '-' if dx == 1 else 'dotted'\n",
        "                ax.plot(\n",
        "                    [xs[j-1], xs[j]],\n",
        "                    [ys[j-1], ys[j]],\n",
        "                    linestyle=style,\n",
        "                    color=cmap(i),\n",
        "                    lw=1.5\n",
        "                )\n",
        "\n",
        "            ax.scatter(\n",
        "                xs, ys,\n",
        "                marker='s', s=60,\n",
        "                color=cmap(i),\n",
        "                label=f'Group {grp}'\n",
        "            )\n",
        "\n",
        "        ax.set_xticks(x_pos)\n",
        "        ax.set_xticklabels(x_labels, rotation=45, ha='right')\n",
        "        ax.set_xlabel('Survey Round')\n",
        "        ax.set_ylabel(f'{var} growth (absolute Δ)')\n",
        "        ax.set_title(f'Growth outliers: {var}', fontsize=16, pad=12)\n",
        "        ax.grid(alpha=0.3)\n",
        "        ax.spines['top'].set_visible(False)\n",
        "        ax.spines['right'].set_visible(False)\n",
        "        ax.legend(loc='upper left', bbox_to_anchor=(1.02, 1))\n",
        "        plt.tight_layout()\n",
        "        plt.show()\n"
      ],
      "metadata": {
        "id": "i57xuXruVkA2"
      },
      "execution_count": null,
      "outputs": []
    },
    {
      "cell_type": "markdown",
      "source": [
        "Basic outlier detection code"
      ],
      "metadata": {
        "id": "nJVH4JWmV67P"
      }
    },
    {
      "cell_type": "code",
      "source": [
        "import pandas as pd\n",
        "import numpy as np\n",
        "import matplotlib.pyplot as plt\n",
        "\n",
        "def outlier_growth(df, groups, variables):\n",
        "    \"\"\"\n",
        "    Detects outliers in growth values per variable and round using IQR thresholds.\n",
        "    If outliers are found, plots growth and raw value comparisons for the flagged groups.\n",
        "    \"\"\"\n",
        "    for var in variables:\n",
        "        growth_col = var + '_growth'\n",
        "        if growth_col not in df.columns:\n",
        "            print(f\"No column {growth_col} found.\")\n",
        "            continue\n",
        "\n",
        "        stats = df.groupby('Round')[growth_col].agg(\n",
        "            Q1=lambda x: x.quantile(0.25),\n",
        "            Q3=lambda x: x.quantile(0.75)\n",
        "        ).reset_index()\n",
        "        stats['IQR']   = stats['Q3'] - stats['Q1']\n",
        "        stats['lower'] = stats['Q1'] - 1.5 * stats['IQR']\n",
        "        stats['upper'] = stats['Q3'] + 1.5 * stats['IQR']\n",
        "\n",
        "        df_stats = df.merge(stats, on='Round', how='left')\n",
        "\n",
        "        print(f\"\\n- Outliers for {growth_col} per round -\")\n",
        "        flagged_groups = set()\n",
        "\n",
        "        for grp in groups:\n",
        "            sub = df_stats[df_stats['Groupnr'] == grp]\n",
        "            for _, row in sub.iterrows():\n",
        "                val = row[growth_col]\n",
        "                if pd.isna(val):\n",
        "                    continue\n",
        "                if val < row['lower']:\n",
        "                    print(f\"Group {grp}, Round {row['Round']}: NEGATIVE outlier ({val:.2f} < {row['lower']:.2f})\")\n",
        "                    flagged_groups.add(grp)\n",
        "                elif val > row['upper']:\n",
        "                    print(f\"Group {grp}, Round {row['Round']}: POSITIVE outlier ({val:.2f} > {row['upper']:.2f})\")\n",
        "                    flagged_groups.add(grp)\n",
        "\n",
        "        if flagged_groups:\n",
        "            sorted_flagged = sorted(flagged_groups)\n",
        "            print(f\"\\nPlot for variable {var} (only outlier‐groups: {sorted_flagged})\")\n",
        "            growth_plot(df, sorted_flagged, [var])\n",
        "            plot_groups_vs_overall(df, sorted_flagged, [var])\n",
        "        else:\n",
        "            print(f\"No outliers were found for {var}, skipping plot.\")\n",
        "\n"
      ],
      "metadata": {
        "id": "MFaPLPd_WGkG"
      },
      "execution_count": null,
      "outputs": []
    },
    {
      "cell_type": "markdown",
      "source": [
        "Adding moving averages"
      ],
      "metadata": {
        "id": "Z3exkzbSWbP2"
      }
    },
    {
      "cell_type": "code",
      "source": [
        "\n",
        "def add_sma_columns(\n",
        "    df: pd.DataFrame,\n",
        "    variables: list[str] | None = None,\n",
        "    window: int = 3,\n",
        "    min_periods: int = 1\n",
        ") -> pd.DataFrame:\n",
        "    df_sma = df.copy()\n",
        "\n",
        "    if variables is None:\n",
        "        numeric_cols = df_sma.select_dtypes(include='number').columns.tolist()\n",
        "        variables = [col for col in numeric_cols if col not in ('Round',)]\n",
        "\n",
        "    for var in variables:\n",
        "        sma_col = f\"{var}_SMA_{window}\"\n",
        "        df_sma[sma_col] = (\n",
        "            df_sma\n",
        "            .groupby('Groupnr')[var]\n",
        "            .transform(lambda s: s.rolling(window=window, min_periods=min_periods).mean())\n",
        "        )\n",
        "    return df_sma"
      ],
      "metadata": {
        "id": "QjVHKNoeWYJV"
      },
      "execution_count": null,
      "outputs": []
    },
    {
      "cell_type": "code",
      "source": [
        "def add_cma_columns(\n",
        "    df: pd.DataFrame,\n",
        "    variables: list[str] | None = None,\n",
        "    window: int = 3,\n",
        "    min_periods: int = 1) -> pd.DataFrame:\n",
        "\n",
        "    df_cma = df.copy()\n",
        "\n",
        "    if variables is None:\n",
        "        numeric_cols = df_cma.select_dtypes(include='number').columns.tolist()\n",
        "        variables = [col for col in numeric_cols if col != 'Round']\n",
        "\n",
        "    for var in variables:\n",
        "        cma_col = f\"{var}_CMA_{window}\"\n",
        "        df_cma[cma_col] = (\n",
        "            df_cma\n",
        "            .groupby('Groupnr')[var]\n",
        "            .transform(lambda s: s.rolling(window=window, min_periods=min_periods, center=True).mean())\n",
        "        )\n",
        "    return df_cma"
      ],
      "metadata": {
        "id": "5Xj_SUyzWev4"
      },
      "execution_count": null,
      "outputs": []
    },
    {
      "cell_type": "code",
      "source": [
        "def add_wma_columns(df: pd.DataFrame,\n",
        "                    variables: list | None = None,\n",
        "                    window: int = 3,\n",
        "                    weights: np.ndarray | None = None,\n",
        "                    min_periods: int = 1) -> pd.DataFrame:\n",
        "    df_wma = df.copy()\n",
        "\n",
        "    if variables is None:\n",
        "        numeric = df_wma.select_dtypes(include='number').columns.tolist()\n",
        "        variables = [c for c in numeric if c not in ('Round',)]\n",
        "\n",
        "    if weights is None:\n",
        "        weights = np.arange(1, window + 1)\n",
        "    weights = np.array(weights)\n",
        "    if weights.shape[0] != window:\n",
        "        raise ValueError(\"Length of weights not equal to the window size.\")\n",
        "\n",
        "    def wma_calc(x):\n",
        "      x = x[~np.isnan(x)]\n",
        "      k = len(x)\n",
        "      if k == 0:\n",
        "          return np.nan\n",
        "      w = weights[-k:]\n",
        "      return np.dot(x, w) / w.sum()\n",
        "\n",
        "    for var in variables:\n",
        "        colname = f\"{var}_WMA_{window}\"\n",
        "        df_wma[colname] = (\n",
        "            df_wma\n",
        "              .groupby('Groupnr')[var]\n",
        "              .transform(lambda s:\n",
        "                  s.rolling(window=window, min_periods=min_periods, center=False)\n",
        "                   .apply(wma_calc, raw=True)\n",
        "              )\n",
        "        )\n",
        "    return df_wma"
      ],
      "metadata": {
        "id": "nLalR9FMWhYm"
      },
      "execution_count": null,
      "outputs": []
    },
    {
      "cell_type": "code",
      "source": [
        "\n",
        "def add_ewma_columns(\n",
        "    df: pd.DataFrame,\n",
        "    variables: list[str] | None = None,\n",
        "    span: int = 3,\n",
        "    adjust: bool = True,\n",
        "    min_periods: int = 1\n",
        ") -> pd.DataFrame:\n",
        "    df_ewma = df.copy()\n",
        "\n",
        "    if variables is None:\n",
        "        numeric_cols = df_ewma.select_dtypes(include='number').columns.tolist()\n",
        "        variables = [col for col in numeric_cols if col != 'Round']\n",
        "\n",
        "    for var in variables:\n",
        "        ewma_col = f\"{var}_EWMA_{span}\"\n",
        "        df_ewma[ewma_col] = (\n",
        "            df_ewma\n",
        "            .groupby('Groupnr')[var]\n",
        "            .transform(lambda s: s.ewm(span=span, adjust=adjust, min_periods=min_periods).mean())\n",
        "        )\n",
        "    return df_ewma"
      ],
      "metadata": {
        "id": "nbf67quNWka-"
      },
      "execution_count": null,
      "outputs": []
    },
    {
      "cell_type": "markdown",
      "source": [
        "Adding tend detection models"
      ],
      "metadata": {
        "id": "eBfjNK1nXOrG"
      }
    },
    {
      "cell_type": "code",
      "source": [
        "import pandas as pd\n",
        "import numpy as np\n",
        "import statsmodels.api as sm\n",
        "from scipy.stats import ttest_ind, kendalltau\n",
        "\n",
        "round2week = {0: 0, 1: 25, 2: 50, 3: 75, 100: 100, 102: 150}\n",
        "df_ewma_growth['Week'] = df_ewma_growth['Round'].map(round2week)\n",
        "\n",
        "variables = ['savinghowmuch_1', 'savinghowmuch_2', 'debtamount_1']\n",
        "groups = df_ewma_growth['Groupnr'].unique()\n",
        "\n",
        "results = []\n",
        "\n",
        "for grp in groups:\n",
        "    df_grp = df_ewma_growth[df_ewma_growth['Groupnr'] == grp]\n",
        "    for var in variables:\n",
        "        df_tmp = df_grp[['Week', var]].dropna()\n",
        "        if len(df_tmp) < 3:\n",
        "            continue\n",
        "\n",
        "        X = sm.add_constant(df_tmp['Week'])\n",
        "        y = df_tmp[var].values\n",
        "\n",
        "        ols = sm.OLS(y, X).fit()\n",
        "        ols_slope, ols_p, ols_r2 = ols.params['Week'], ols.pvalues['Week'], ols.rsquared\n",
        "\n",
        "        gls = sm.GLS(y, X).fit()\n",
        "        gls_slope, gls_p = gls.params['Week'], gls.pvalues['Week']\n",
        "\n",
        "        early = df_tmp[df_tmp['Week'] <= 50][var]\n",
        "        late  = df_tmp[df_tmp['Week'] > 50][var]\n",
        "        if len(early) >= 2 and len(late) >= 2:\n",
        "            tas_stat, tas_p = ttest_ind(early, late, nan_policy='omit')\n",
        "        else:\n",
        "            tas_stat, tas_p = np.nan, np.nan\n",
        "\n",
        "        tau, tau_p = kendalltau(df_tmp['Week'], y)\n",
        "        trend_dir = 'up' if tau > 0 else ('down' if tau < 0 else 'flat')\n",
        "\n",
        "        results.append({\n",
        "            'Groupnr': grp,\n",
        "            'Variable': var,\n",
        "            'OLS_slope': ols_slope,\n",
        "            'OLS_p': ols_p,\n",
        "            'OLS_R2': ols_r2,\n",
        "            'GLS_slope': gls_slope,\n",
        "            'GLS_p': gls_p,\n",
        "            'TAS_stat': tas_stat,\n",
        "            'TAS_p': tas_p,\n",
        "            'Kendall_tau': tau,\n",
        "            'Kendall_p': tau_p,\n",
        "            'Trend_dir': trend_dir\n",
        "        })\n",
        "\n",
        "trend_df = pd.DataFrame(results)\n",
        "trend_df\n"
      ],
      "metadata": {
        "id": "G23Kc78bXQ0-"
      },
      "execution_count": null,
      "outputs": []
    },
    {
      "cell_type": "markdown",
      "source": [
        "# Evaluation"
      ],
      "metadata": {
        "id": "RDd_b_thWvRe"
      }
    },
    {
      "cell_type": "markdown",
      "source": [
        "Testing the different Moving Averages by plotting"
      ],
      "metadata": {
        "id": "aRIB_pamXUge"
      }
    },
    {
      "cell_type": "code",
      "source": [
        "import matplotlib.pyplot as plt\n",
        "\n",
        "def compare_smoothing(\n",
        "    df_dict,\n",
        "    groups,\n",
        "    variables,\n",
        "    window_size=3\n",
        "):\n",
        "    round_order = [0, 1, 2, 3, 100, 102]\n",
        "    round_labels = ['Baseline', 'Phone 1', 'Phone 2', 'Phone 3', 'Endline', 'Post-program']\n",
        "    round_map = dict(zip(round_order, round_labels))\n",
        "\n",
        "    for variable in variables:\n",
        "        n_groups = len(groups)\n",
        "        fig, axes = plt.subplots(nrows=1, ncols=n_groups, figsize=(6 * n_groups, 5), sharey=True)\n",
        "\n",
        "        if n_groups == 1:\n",
        "            axes = [axes]\n",
        "\n",
        "        for i, group in enumerate(groups):\n",
        "            ax = axes[i]\n",
        "\n",
        "            base_df = next(iter(df_dict.values()))\n",
        "            raw = base_df[(base_df['Groupnr'] == group) & (base_df['Round'].isin(round_order))].copy()\n",
        "            raw['RoundLabel'] = raw['Round'].map(round_map)\n",
        "            ax.plot(raw['RoundLabel'], raw[variable], linestyle='--', marker='o', label='Raw')\n",
        "\n",
        "            for method, df in df_dict.items():\n",
        "                colname = f\"{variable}_{method.upper()}_{window_size}\"\n",
        "                if colname in df.columns:\n",
        "                    sub = df[(df['Groupnr'] == group) & (df['Round'].isin(round_order))].copy()\n",
        "                    sub['RoundLabel'] = sub['Round'].map(round_map)\n",
        "                    ax.plot(sub['RoundLabel'], sub[colname], label=method.upper())\n",
        "\n",
        "            ax.set_title(f'Group {group}')\n",
        "            ax.set_xlabel('Survey Round')\n",
        "            if i == 0:\n",
        "                ax.set_ylabel(variable)\n",
        "            ax.grid(True)\n",
        "            ax.legend()\n",
        "\n",
        "        plt.suptitle(f\"Smoothing comparison for '{variable}'\", fontsize=16)\n",
        "        plt.tight_layout()\n",
        "        plt.show()"
      ],
      "metadata": {
        "id": "NHOmnzeOWuVn"
      },
      "execution_count": null,
      "outputs": []
    },
    {
      "cell_type": "markdown",
      "source": [
        "Evaluating trend detection models with plots"
      ],
      "metadata": {
        "id": "cfYIED3OXZAN"
      }
    },
    {
      "cell_type": "markdown",
      "source": [
        "Violin p value plots"
      ],
      "metadata": {
        "id": "_3FzCAoIYCaO"
      }
    },
    {
      "cell_type": "code",
      "source": [
        "plt.figure(figsize=(10, 6))\n",
        "sns.violinplot(\n",
        "    data=trend_df,\n",
        "    x=\"OLS_p\",\n",
        "    y=\"Variable\",\n",
        "    hue=\"Variable\",\n",
        "    palette=\"Dark2\",\n",
        "    split=False,\n",
        "    inner=\"stick\",\n",
        "    legend=False\n",
        ")\n",
        "\n",
        "plt.axvline(\n",
        "    0.05,\n",
        "    color=\"red\",\n",
        "    linestyle=\"--\",\n",
        "    linewidth=2,\n",
        "    label=\"p = 0.05\"\n",
        ")\n",
        "\n",
        "plt.title(\"Violin of OLS p-values by Variable\")\n",
        "plt.legend(loc=\"upper right\")\n",
        "plt.tight_layout()\n",
        "plt.show()\n"
      ],
      "metadata": {
        "id": "0R9lBDilXmwm"
      },
      "execution_count": null,
      "outputs": []
    },
    {
      "cell_type": "markdown",
      "source": [
        "TAS p values"
      ],
      "metadata": {
        "id": "zQvrvdUdXzmf"
      }
    },
    {
      "cell_type": "code",
      "source": [
        "\n",
        "plt.figure(figsize=(8, 4))\n",
        "sns.boxplot(\n",
        "    data=trend_df,\n",
        "    y=\"Variable\",\n",
        "    x=\"TAS_p\",\n",
        "    hue='Variable',\n",
        "    palette=\"Set2\",\n",
        "    showfliers=True,\n",
        "    flierprops={\"marker\":\"o\",\"alpha\":0.4,\"markersize\":4},\n",
        "    legend=False\n",
        ")\n",
        "plt.axvline(0.05, color=\"red\", linestyle=\"--\")\n",
        "plt.title(\"TAS p-value by Variable\")\n",
        "plt.tight_layout()\n",
        "plt.show()"
      ],
      "metadata": {
        "id": "dyFujCE7XxLm"
      },
      "execution_count": null,
      "outputs": []
    },
    {
      "cell_type": "markdown",
      "source": [
        "Counts for Kendalls tau"
      ],
      "metadata": {
        "id": "EGW7U6c3X3Ew"
      }
    },
    {
      "cell_type": "code",
      "source": [
        "plt.figure(figsize=(8, 6))\n",
        "order = [\"up\", \"flat\", \"down\"]\n",
        "ax = sns.countplot(\n",
        "    data=trend_df,\n",
        "    x=\"Trend_dir\",\n",
        "    order=order,\n",
        "    hue=\"Variable\",\n",
        "    palette=\"Set2\"\n",
        ")\n",
        "plt.title(\"Count of Trend Directions by Variable\")\n",
        "plt.ylabel(\"Count\")\n",
        "\n",
        "\n",
        "plt.legend(\n",
        "    loc=\"upper center\",\n",
        "    bbox_to_anchor=(0.5, -0.15),\n",
        "    ncol=3,\n",
        "    frameon=False\n",
        ")\n",
        "\n",
        "plt.tight_layout()\n",
        "plt.show()"
      ],
      "metadata": {
        "id": "T-unBe15Xxqu"
      },
      "execution_count": null,
      "outputs": []
    },
    {
      "cell_type": "markdown",
      "source": [
        "OLS vs GLS slopes"
      ],
      "metadata": {
        "id": "zC6MW-iaX5Ou"
      }
    },
    {
      "cell_type": "code",
      "source": [
        "g = sns.FacetGrid(trend_df, col=\"Variable\", height=4, aspect=1)\n",
        "g.set_titles(\"{col_name}\")\n",
        "g.map_dataframe(\n",
        "    sns.scatterplot,\n",
        "    x=\"OLS_slope\",\n",
        "    y=\"GLS_slope\",\n",
        "    alpha=0.7\n",
        ")\n",
        "\n",
        "for ax in g.axes.flat:\n",
        "    lim = max(\n",
        "        abs(ax.get_xlim()[0]), ax.get_xlim()[1],\n",
        "        abs(ax.get_ylim()[0]), ax.get_ylim()[1]\n",
        "    )\n",
        "    ax.plot([-lim, lim], [-lim, lim],\n",
        "            ls=\"--\", lw=1.5, c=\"blue\")\n",
        "    ax.set_aspect(\"equal\", \"box\")\n",
        "\n",
        "g.set_axis_labels(\"OLS slope\", \"GLS slope\")\n",
        "g.fig.suptitle(\"OLS vs GLS slopes, by Variable\", y=1.02)\n",
        "plt.tight_layout()\n",
        "plt.show()\n"
      ],
      "metadata": {
        "id": "llKfusTqX8ye"
      },
      "execution_count": null,
      "outputs": []
    },
    {
      "cell_type": "markdown",
      "source": [
        "#Results"
      ],
      "metadata": {
        "id": "r-RbpJlQWxBe"
      }
    },
    {
      "cell_type": "markdown",
      "source": [
        "Plotting function of EWMA-based IQR zone compared to original growth and average growth"
      ],
      "metadata": {
        "id": "C3QMVCIvW2II"
      }
    },
    {
      "cell_type": "code",
      "source": [
        "def growth_plot_strict_iqr(\n",
        "    df: pd.DataFrame,\n",
        "    groups: list[str],\n",
        "    var: str,\n",
        "    methods: list[str] = ['EWMA','WMA'],\n",
        "    window: int = 3\n",
        "):\n",
        "    \"\"\"\n",
        "    Plots a strict intersection-based IQR band across multiple smoothing methods\n",
        "    and visualizes group growth trends against this threshold.\n",
        "    \"\"\"\n",
        "    import numpy as np\n",
        "    import matplotlib.pyplot as plt\n",
        "\n",
        "    round_order = [0,1,2,3,100,102]\n",
        "    labels = {\n",
        "        0:'Baseline',1:'Phone survey 1',2:'Phone survey 2',\n",
        "        3:'Phone survey 3',100:'Endline',102:'Post-program survey'\n",
        "    }\n",
        "    x = np.arange(len(round_order))\n",
        "    xlabs = [labels[r] for r in round_order]\n",
        "\n",
        "    stats = {}\n",
        "    for m in methods:\n",
        "        gc = f\"{var}_{m.upper()}_{window}_growth\"\n",
        "        s = df.groupby('Round')[gc].agg(\n",
        "            Q1=lambda x: x.quantile(0.25),\n",
        "            Q3=lambda x: x.quantile(0.75)\n",
        "        ).reindex(round_order)\n",
        "        s['lower'] = s['Q1'] - 1.5*(s['Q3']-s['Q1'])\n",
        "        s['upper'] = s['Q3'] + 1.5*(s['Q3']-s['Q1'])\n",
        "        stats[m] = s\n",
        "\n",
        "    lowers = np.vstack([stats[m]['lower'] for m in methods])\n",
        "    uppers = np.vstack([stats[m]['upper'] for m in methods])\n",
        "    strict_lower = np.max(lowers, axis=0)\n",
        "    strict_upper = np.min(uppers, axis=0)\n",
        "\n",
        "    raw_gc = var + '_growth'\n",
        "    overall = df.groupby('Round')[raw_gc].mean().reindex(round_order)\n",
        "\n",
        "    plt.style.use('ggplot')\n",
        "    fig, ax = plt.subplots(figsize=(10,5), dpi=120)\n",
        "\n",
        "    ax.fill_between(x, strict_lower, strict_upper,\n",
        "                    color='lightgray', alpha=0.6,\n",
        "                    label='IQR band (strict ∩ EWMA)')\n",
        "\n",
        "    ax.plot(x, strict_lower,   'k-', lw=1, label='IQR lower')\n",
        "    ax.plot(x, strict_upper,   'k-', lw=1, label='IQR upper')\n",
        "\n",
        "    ax.plot(x, overall.values, 'o--', color='red', lw=2, ms=6,\n",
        "            label='Avg growth')\n",
        "\n",
        "    cmap = plt.get_cmap('tab10')\n",
        "    for i, gid in enumerate(groups):\n",
        "        ax.plot([], [],\n",
        "                color=cmap(i),\n",
        "                marker='s',\n",
        "                linestyle='-',\n",
        "                linewidth=1.5,\n",
        "                label=f\"Group {gid}\")\n",
        "\n",
        "    def plot_group(gid, color):\n",
        "        sub = (df[df['Groupnr']==gid]\n",
        "               .set_index('Round')[raw_gc]\n",
        "               .reindex(round_order))\n",
        "        y = sub.values\n",
        "        for j in range(1,len(x)):\n",
        "            ls = '-' if (not np.isnan(y[j-1]) and not np.isnan(y[j])) else ':'\n",
        "            ax.plot(x[j-1:j+1], y[j-1:j+1],\n",
        "                    color=color, lw=1.5, linestyle=ls)\n",
        "        ax.scatter(x, y, color=color, s=60, marker='s')\n",
        "\n",
        "    for i, gid in enumerate(groups):\n",
        "        plot_group(gid, cmap(i))\n",
        "\n",
        "    ax.set_xticks(x)\n",
        "    ax.set_xticklabels(xlabs, rotation=45, ha='right')\n",
        "    ax.set_ylabel(f\"{var}_growth (absolute Δ)\")\n",
        "    ax.set_title(f\"Growth outliers: {var}\")\n",
        "    ax.legend(loc='upper left', bbox_to_anchor=(1.02,1))\n",
        "    plt.tight_layout()\n",
        "    plt.show()\n"
      ],
      "metadata": {
        "id": "clVm7mvCWoN2"
      },
      "execution_count": null,
      "outputs": []
    },
    {
      "cell_type": "markdown",
      "source": [
        "Outlier detection using the new EWMA based IQR zone"
      ],
      "metadata": {
        "id": "cMtiRkiyW9hH"
      }
    },
    {
      "cell_type": "code",
      "source": [
        "import numpy as np\n",
        "import pandas as pd\n",
        "import matplotlib.pyplot as plt\n",
        "\n",
        "def outlier_growth_ewma(\n",
        "    df: pd.DataFrame,\n",
        "    groups: list[str],\n",
        "    variables: list[str],\n",
        "    window: int = 3\n",
        "):\n",
        "    \"\"\"\n",
        "    For each variable in `variables`, compute the IQR band from its *_EWMA_{window}_growth series,\n",
        "    then flag *raw* var_growth whenever it steps outside that band.\n",
        "    Finally, for any variable with at least one flag, plot:\n",
        "      1) growth_plot_strict_iqr (the IQR‐band view)\n",
        "      2) plot_groups_vs_overall (the raw trend)\n",
        "    \"\"\"\n",
        "    round_order = [0, 1, 2, 3, 100, 102]\n",
        "\n",
        "    flagged_per_var = {var: set() for var in variables}\n",
        "\n",
        "    for var in variables:\n",
        "        gc = f\"{var}_EWMA_{window}_growth\"\n",
        "        if gc not in df.columns:\n",
        "            raise ValueError(f\"Missing column {gc}\")\n",
        "        grp = df.groupby(\"Round\")[gc]\n",
        "        s = grp.agg(Q1=lambda x: x.quantile(0.25),\n",
        "                    Q3=lambda x: x.quantile(0.75)).reindex(round_order)\n",
        "        iqr = s[\"Q3\"] - s[\"Q1\"]\n",
        "        band = pd.DataFrame({\n",
        "            \"lower\": s[\"Q1\"] - 1.5 * iqr,\n",
        "            \"upper\": s[\"Q3\"] + 1.5 * iqr\n",
        "        }, index=round_order)\n",
        "\n",
        "        raw_gc = var + \"_growth\"\n",
        "        if raw_gc not in df.columns:\n",
        "            print(f\"Warning: no raw growth column {raw_gc}\")\n",
        "            continue\n",
        "\n",
        "        tmp = df[[\"Groupnr\", \"Round\", raw_gc]].merge(\n",
        "            band.reset_index().rename(columns={\"index\": \"Round\"}),\n",
        "            on=\"Round\", how=\"left\"\n",
        "        )\n",
        "\n",
        "        print(f\"\\n- EWMA-IQR outliers for {var}_growth -\")\n",
        "        for grp in groups:\n",
        "            sub = tmp[tmp[\"Groupnr\"] == grp]\n",
        "            for _, r in sub.iterrows():\n",
        "                v = r[raw_gc]\n",
        "                if pd.isna(v):\n",
        "                    continue\n",
        "                if v < r[\"lower\"]:\n",
        "                    print(f\"! NEG outlier: {var}, Group {grp}, Round {r['Round']}: {v:.1f} < {r['lower']:.1f}\")\n",
        "                    flagged_per_var[var].add(grp)\n",
        "                elif v > r[\"upper\"]:\n",
        "                    print(f\"! POS outlier: {var}, Group {grp}, Round {r['Round']}: {v:.1f} > {r['upper']:.1f}\")\n",
        "                    flagged_per_var[var].add(grp)\n",
        "\n",
        "    for var, fl in flagged_per_var.items():\n",
        "        if not fl:\n",
        "            print(f\"\\n– No outliers found for {var}.\")\n",
        "            continue\n",
        "\n",
        "        fl = sorted(fl)\n",
        "        print(f\"\\n! Plotting EWMA-IQR band & raw trends for {var} (groups: {fl}) !\")\n",
        "        growth_plot_strict_iqr(df, fl, var, methods=[\"EWMA\"], window=window)\n",
        "        plot_groups_vs_overall(df, fl, [var])\n"
      ],
      "metadata": {
        "id": "XW_QDGqTXH4d"
      },
      "execution_count": null,
      "outputs": []
    }
  ]
}